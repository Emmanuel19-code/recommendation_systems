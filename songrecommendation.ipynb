{
 "cells": [
  {
   "cell_type": "code",
   "execution_count": 2,
   "id": "cb84356d-4fa2-4d84-968b-06b65b4174e8",
   "metadata": {},
   "outputs": [],
   "source": [
    "import pandas as pd\n",
    "import numpy as np"
   ]
  },
  {
   "cell_type": "code",
   "execution_count": 3,
   "id": "eba005ff-edd2-4ac2-8c54-d85f3727a770",
   "metadata": {},
   "outputs": [],
   "source": [
    "data = pd.read_csv(\"datasets/top_50_2023.csv\")"
   ]
  },
  {
   "cell_type": "code",
   "execution_count": 4,
   "id": "30de3437-e619-49dc-ae6c-d7df19b7bd0d",
   "metadata": {},
   "outputs": [
    {
     "data": {
      "text/html": [
       "<div>\n",
       "<style scoped>\n",
       "    .dataframe tbody tr th:only-of-type {\n",
       "        vertical-align: middle;\n",
       "    }\n",
       "\n",
       "    .dataframe tbody tr th {\n",
       "        vertical-align: top;\n",
       "    }\n",
       "\n",
       "    .dataframe thead th {\n",
       "        text-align: right;\n",
       "    }\n",
       "</style>\n",
       "<table border=\"1\" class=\"dataframe\">\n",
       "  <thead>\n",
       "    <tr style=\"text-align: right;\">\n",
       "      <th></th>\n",
       "      <th>artist_name</th>\n",
       "      <th>track_name</th>\n",
       "      <th>is_explicit</th>\n",
       "      <th>album_release_date</th>\n",
       "      <th>genres</th>\n",
       "      <th>danceability</th>\n",
       "      <th>valence</th>\n",
       "      <th>energy</th>\n",
       "      <th>loudness</th>\n",
       "      <th>acousticness</th>\n",
       "      <th>instrumentalness</th>\n",
       "      <th>liveness</th>\n",
       "      <th>speechiness</th>\n",
       "      <th>key</th>\n",
       "      <th>tempo</th>\n",
       "      <th>mode</th>\n",
       "      <th>duration_ms</th>\n",
       "      <th>time_signature</th>\n",
       "      <th>popularity</th>\n",
       "    </tr>\n",
       "  </thead>\n",
       "  <tbody>\n",
       "    <tr>\n",
       "      <th>0</th>\n",
       "      <td>Miley Cyrus</td>\n",
       "      <td>Flowers</td>\n",
       "      <td>False</td>\n",
       "      <td>2023-08-18</td>\n",
       "      <td>['pop']</td>\n",
       "      <td>0.706</td>\n",
       "      <td>0.632</td>\n",
       "      <td>0.691</td>\n",
       "      <td>-4.775</td>\n",
       "      <td>0.0584</td>\n",
       "      <td>0.000070</td>\n",
       "      <td>0.0232</td>\n",
       "      <td>0.0633</td>\n",
       "      <td>0</td>\n",
       "      <td>118.048</td>\n",
       "      <td>1</td>\n",
       "      <td>200600</td>\n",
       "      <td>4</td>\n",
       "      <td>94</td>\n",
       "    </tr>\n",
       "    <tr>\n",
       "      <th>1</th>\n",
       "      <td>SZA</td>\n",
       "      <td>Kill Bill</td>\n",
       "      <td>False</td>\n",
       "      <td>2022-12-08</td>\n",
       "      <td>['pop', 'r&amp;b', 'rap']</td>\n",
       "      <td>0.644</td>\n",
       "      <td>0.418</td>\n",
       "      <td>0.735</td>\n",
       "      <td>-5.747</td>\n",
       "      <td>0.0521</td>\n",
       "      <td>0.144000</td>\n",
       "      <td>0.1610</td>\n",
       "      <td>0.0391</td>\n",
       "      <td>8</td>\n",
       "      <td>88.980</td>\n",
       "      <td>1</td>\n",
       "      <td>153947</td>\n",
       "      <td>4</td>\n",
       "      <td>86</td>\n",
       "    </tr>\n",
       "    <tr>\n",
       "      <th>2</th>\n",
       "      <td>Harry Styles</td>\n",
       "      <td>As It Was</td>\n",
       "      <td>False</td>\n",
       "      <td>2022-05-20</td>\n",
       "      <td>['pop']</td>\n",
       "      <td>0.520</td>\n",
       "      <td>0.662</td>\n",
       "      <td>0.731</td>\n",
       "      <td>-5.338</td>\n",
       "      <td>0.3420</td>\n",
       "      <td>0.001010</td>\n",
       "      <td>0.3110</td>\n",
       "      <td>0.0557</td>\n",
       "      <td>6</td>\n",
       "      <td>173.930</td>\n",
       "      <td>0</td>\n",
       "      <td>167303</td>\n",
       "      <td>4</td>\n",
       "      <td>95</td>\n",
       "    </tr>\n",
       "    <tr>\n",
       "      <th>3</th>\n",
       "      <td>Jung Kook</td>\n",
       "      <td>Seven (feat. Latto) (Explicit Ver.)</td>\n",
       "      <td>True</td>\n",
       "      <td>2023-11-03</td>\n",
       "      <td>['k-pop']</td>\n",
       "      <td>0.790</td>\n",
       "      <td>0.872</td>\n",
       "      <td>0.831</td>\n",
       "      <td>-4.185</td>\n",
       "      <td>0.3120</td>\n",
       "      <td>0.000000</td>\n",
       "      <td>0.0797</td>\n",
       "      <td>0.0440</td>\n",
       "      <td>11</td>\n",
       "      <td>124.987</td>\n",
       "      <td>1</td>\n",
       "      <td>183551</td>\n",
       "      <td>4</td>\n",
       "      <td>90</td>\n",
       "    </tr>\n",
       "    <tr>\n",
       "      <th>4</th>\n",
       "      <td>Eslabon Armado</td>\n",
       "      <td>Ella Baila Sola</td>\n",
       "      <td>False</td>\n",
       "      <td>2023-04-28</td>\n",
       "      <td>['corrido', 'corridos tumbados', 'sad sierreno...</td>\n",
       "      <td>0.668</td>\n",
       "      <td>0.834</td>\n",
       "      <td>0.758</td>\n",
       "      <td>-5.176</td>\n",
       "      <td>0.4830</td>\n",
       "      <td>0.000019</td>\n",
       "      <td>0.0837</td>\n",
       "      <td>0.0332</td>\n",
       "      <td>5</td>\n",
       "      <td>147.989</td>\n",
       "      <td>0</td>\n",
       "      <td>165671</td>\n",
       "      <td>3</td>\n",
       "      <td>86</td>\n",
       "    </tr>\n",
       "  </tbody>\n",
       "</table>\n",
       "</div>"
      ],
      "text/plain": [
       "      artist_name                           track_name  is_explicit  \\\n",
       "0     Miley Cyrus                              Flowers        False   \n",
       "1             SZA                            Kill Bill        False   \n",
       "2    Harry Styles                            As It Was        False   \n",
       "3       Jung Kook  Seven (feat. Latto) (Explicit Ver.)         True   \n",
       "4  Eslabon Armado                      Ella Baila Sola        False   \n",
       "\n",
       "  album_release_date                                             genres  \\\n",
       "0         2023-08-18                                            ['pop']   \n",
       "1         2022-12-08                              ['pop', 'r&b', 'rap']   \n",
       "2         2022-05-20                                            ['pop']   \n",
       "3         2023-11-03                                          ['k-pop']   \n",
       "4         2023-04-28  ['corrido', 'corridos tumbados', 'sad sierreno...   \n",
       "\n",
       "   danceability  valence  energy  loudness  acousticness  instrumentalness  \\\n",
       "0         0.706    0.632   0.691    -4.775        0.0584          0.000070   \n",
       "1         0.644    0.418   0.735    -5.747        0.0521          0.144000   \n",
       "2         0.520    0.662   0.731    -5.338        0.3420          0.001010   \n",
       "3         0.790    0.872   0.831    -4.185        0.3120          0.000000   \n",
       "4         0.668    0.834   0.758    -5.176        0.4830          0.000019   \n",
       "\n",
       "   liveness  speechiness  key    tempo  mode  duration_ms  time_signature  \\\n",
       "0    0.0232       0.0633    0  118.048     1       200600               4   \n",
       "1    0.1610       0.0391    8   88.980     1       153947               4   \n",
       "2    0.3110       0.0557    6  173.930     0       167303               4   \n",
       "3    0.0797       0.0440   11  124.987     1       183551               4   \n",
       "4    0.0837       0.0332    5  147.989     0       165671               3   \n",
       "\n",
       "   popularity  \n",
       "0          94  \n",
       "1          86  \n",
       "2          95  \n",
       "3          90  \n",
       "4          86  "
      ]
     },
     "execution_count": 4,
     "metadata": {},
     "output_type": "execute_result"
    }
   ],
   "source": [
    "data.head()"
   ]
  },
  {
   "cell_type": "code",
   "execution_count": 5,
   "id": "cfb161b7-7919-47c6-911b-8a86555e2d04",
   "metadata": {},
   "outputs": [
    {
     "name": "stdout",
     "output_type": "stream",
     "text": [
      "<class 'pandas.core.frame.DataFrame'>\n",
      "RangeIndex: 50 entries, 0 to 49\n",
      "Data columns (total 19 columns):\n",
      " #   Column              Non-Null Count  Dtype  \n",
      "---  ------              --------------  -----  \n",
      " 0   artist_name         50 non-null     object \n",
      " 1   track_name          50 non-null     object \n",
      " 2   is_explicit         50 non-null     bool   \n",
      " 3   album_release_date  50 non-null     object \n",
      " 4   genres              50 non-null     object \n",
      " 5   danceability        50 non-null     float64\n",
      " 6   valence             50 non-null     float64\n",
      " 7   energy              50 non-null     float64\n",
      " 8   loudness            50 non-null     float64\n",
      " 9   acousticness        50 non-null     float64\n",
      " 10  instrumentalness    50 non-null     float64\n",
      " 11  liveness            50 non-null     float64\n",
      " 12  speechiness         50 non-null     float64\n",
      " 13  key                 50 non-null     int64  \n",
      " 14  tempo               50 non-null     float64\n",
      " 15  mode                50 non-null     int64  \n",
      " 16  duration_ms         50 non-null     int64  \n",
      " 17  time_signature      50 non-null     int64  \n",
      " 18  popularity          50 non-null     int64  \n",
      "dtypes: bool(1), float64(9), int64(5), object(4)\n",
      "memory usage: 7.2+ KB\n"
     ]
    }
   ],
   "source": [
    "data.info()"
   ]
  },
  {
   "cell_type": "code",
   "execution_count": 6,
   "id": "d43f338f-5bf7-4226-a122-c5622e6dc06a",
   "metadata": {},
   "outputs": [],
   "source": [
    "new_df = data[[\"genres\",\"artist_name\",\"track_name\"]]"
   ]
  },
  {
   "cell_type": "code",
   "execution_count": 8,
   "id": "a1c0ca0f-9b14-41b4-bbe2-40acd1150828",
   "metadata": {},
   "outputs": [
    {
     "data": {
      "text/html": [
       "<div>\n",
       "<style scoped>\n",
       "    .dataframe tbody tr th:only-of-type {\n",
       "        vertical-align: middle;\n",
       "    }\n",
       "\n",
       "    .dataframe tbody tr th {\n",
       "        vertical-align: top;\n",
       "    }\n",
       "\n",
       "    .dataframe thead th {\n",
       "        text-align: right;\n",
       "    }\n",
       "</style>\n",
       "<table border=\"1\" class=\"dataframe\">\n",
       "  <thead>\n",
       "    <tr style=\"text-align: right;\">\n",
       "      <th></th>\n",
       "      <th>genres</th>\n",
       "      <th>artist_name</th>\n",
       "      <th>track_name</th>\n",
       "    </tr>\n",
       "  </thead>\n",
       "  <tbody>\n",
       "    <tr>\n",
       "      <th>0</th>\n",
       "      <td>['pop']</td>\n",
       "      <td>Miley Cyrus</td>\n",
       "      <td>Flowers</td>\n",
       "    </tr>\n",
       "    <tr>\n",
       "      <th>1</th>\n",
       "      <td>['pop', 'r&amp;b', 'rap']</td>\n",
       "      <td>SZA</td>\n",
       "      <td>Kill Bill</td>\n",
       "    </tr>\n",
       "    <tr>\n",
       "      <th>2</th>\n",
       "      <td>['pop']</td>\n",
       "      <td>Harry Styles</td>\n",
       "      <td>As It Was</td>\n",
       "    </tr>\n",
       "    <tr>\n",
       "      <th>3</th>\n",
       "      <td>['k-pop']</td>\n",
       "      <td>Jung Kook</td>\n",
       "      <td>Seven (feat. Latto) (Explicit Ver.)</td>\n",
       "    </tr>\n",
       "    <tr>\n",
       "      <th>4</th>\n",
       "      <td>['corrido', 'corridos tumbados', 'sad sierreno...</td>\n",
       "      <td>Eslabon Armado</td>\n",
       "      <td>Ella Baila Sola</td>\n",
       "    </tr>\n",
       "  </tbody>\n",
       "</table>\n",
       "</div>"
      ],
      "text/plain": [
       "                                              genres     artist_name  \\\n",
       "0                                            ['pop']     Miley Cyrus   \n",
       "1                              ['pop', 'r&b', 'rap']             SZA   \n",
       "2                                            ['pop']    Harry Styles   \n",
       "3                                          ['k-pop']       Jung Kook   \n",
       "4  ['corrido', 'corridos tumbados', 'sad sierreno...  Eslabon Armado   \n",
       "\n",
       "                            track_name  \n",
       "0                              Flowers  \n",
       "1                            Kill Bill  \n",
       "2                            As It Was  \n",
       "3  Seven (feat. Latto) (Explicit Ver.)  \n",
       "4                      Ella Baila Sola  "
      ]
     },
     "execution_count": 8,
     "metadata": {},
     "output_type": "execute_result"
    }
   ],
   "source": [
    "new_df.head()"
   ]
  },
  {
   "cell_type": "code",
   "execution_count": 9,
   "id": "5481059f-7b98-4cc4-9b80-e5c5fe4bffd8",
   "metadata": {},
   "outputs": [
    {
     "data": {
      "text/plain": [
       "(50, 3)"
      ]
     },
     "execution_count": 9,
     "metadata": {},
     "output_type": "execute_result"
    }
   ],
   "source": [
    "new_df.shape"
   ]
  },
  {
   "cell_type": "code",
   "execution_count": 10,
   "id": "27e26c2d-3940-4840-a328-3813ccf6d4a7",
   "metadata": {},
   "outputs": [
    {
     "name": "stderr",
     "output_type": "stream",
     "text": [
      "C:\\Users\\Emmanuel\\AppData\\Local\\Temp\\ipykernel_14932\\3526128356.py:2: SettingWithCopyWarning: \n",
      "A value is trying to be set on a copy of a slice from a DataFrame.\n",
      "Try using .loc[row_indexer,col_indexer] = value instead\n",
      "\n",
      "See the caveats in the documentation: https://pandas.pydata.org/pandas-docs/stable/user_guide/indexing.html#returning-a-view-versus-a-copy\n",
      "  new_df['genres'] = new_df['genres'].str.strip(\"[]\").str.replace(\"'\", \"\")\n"
     ]
    }
   ],
   "source": [
    "\n",
    "# Remove the quotation marks from the 'genre' column\n",
    "new_df['genres'] = new_df['genres'].str.strip(\"[]\").str.replace(\"'\", \"\")\n",
    "\n"
   ]
  },
  {
   "cell_type": "code",
   "execution_count": 11,
   "id": "8b68fb7c-d850-4de4-8952-e14d32a6a593",
   "metadata": {},
   "outputs": [
    {
     "data": {
      "text/html": [
       "<div>\n",
       "<style scoped>\n",
       "    .dataframe tbody tr th:only-of-type {\n",
       "        vertical-align: middle;\n",
       "    }\n",
       "\n",
       "    .dataframe tbody tr th {\n",
       "        vertical-align: top;\n",
       "    }\n",
       "\n",
       "    .dataframe thead th {\n",
       "        text-align: right;\n",
       "    }\n",
       "</style>\n",
       "<table border=\"1\" class=\"dataframe\">\n",
       "  <thead>\n",
       "    <tr style=\"text-align: right;\">\n",
       "      <th></th>\n",
       "      <th>genres</th>\n",
       "      <th>artist_name</th>\n",
       "      <th>track_name</th>\n",
       "    </tr>\n",
       "  </thead>\n",
       "  <tbody>\n",
       "    <tr>\n",
       "      <th>0</th>\n",
       "      <td>pop</td>\n",
       "      <td>Miley Cyrus</td>\n",
       "      <td>Flowers</td>\n",
       "    </tr>\n",
       "    <tr>\n",
       "      <th>1</th>\n",
       "      <td>pop, r&amp;b, rap</td>\n",
       "      <td>SZA</td>\n",
       "      <td>Kill Bill</td>\n",
       "    </tr>\n",
       "    <tr>\n",
       "      <th>2</th>\n",
       "      <td>pop</td>\n",
       "      <td>Harry Styles</td>\n",
       "      <td>As It Was</td>\n",
       "    </tr>\n",
       "    <tr>\n",
       "      <th>3</th>\n",
       "      <td>k-pop</td>\n",
       "      <td>Jung Kook</td>\n",
       "      <td>Seven (feat. Latto) (Explicit Ver.)</td>\n",
       "    </tr>\n",
       "    <tr>\n",
       "      <th>4</th>\n",
       "      <td>corrido, corridos tumbados, sad sierreno, sier...</td>\n",
       "      <td>Eslabon Armado</td>\n",
       "      <td>Ella Baila Sola</td>\n",
       "    </tr>\n",
       "  </tbody>\n",
       "</table>\n",
       "</div>"
      ],
      "text/plain": [
       "                                              genres     artist_name  \\\n",
       "0                                                pop     Miley Cyrus   \n",
       "1                                      pop, r&b, rap             SZA   \n",
       "2                                                pop    Harry Styles   \n",
       "3                                              k-pop       Jung Kook   \n",
       "4  corrido, corridos tumbados, sad sierreno, sier...  Eslabon Armado   \n",
       "\n",
       "                            track_name  \n",
       "0                              Flowers  \n",
       "1                            Kill Bill  \n",
       "2                            As It Was  \n",
       "3  Seven (feat. Latto) (Explicit Ver.)  \n",
       "4                      Ella Baila Sola  "
      ]
     },
     "execution_count": 11,
     "metadata": {},
     "output_type": "execute_result"
    }
   ],
   "source": [
    "new_df.head()"
   ]
  },
  {
   "cell_type": "code",
   "execution_count": 12,
   "id": "49a1b13f-acc1-4c56-8dc4-88a5d7d1bda8",
   "metadata": {},
   "outputs": [],
   "source": [
    "from sklearn.feature_extraction.text import CountVectorizer"
   ]
  },
  {
   "cell_type": "code",
   "execution_count": 13,
   "id": "14c15f24-fb6b-4d4e-9086-0cdc8e88e3fb",
   "metadata": {},
   "outputs": [],
   "source": [
    "cv = CountVectorizer()"
   ]
  },
  {
   "cell_type": "code",
   "execution_count": 14,
   "id": "21f32100-f1d0-4b81-9cfb-83827cf26c2b",
   "metadata": {},
   "outputs": [],
   "source": [
    "vectors =cv.fit_transform(new_df[\"track_name\"]).toarray()"
   ]
  },
  {
   "cell_type": "code",
   "execution_count": 15,
   "id": "5dce3d7f-6d6a-449f-8cc0-8c33db8a3bdb",
   "metadata": {},
   "outputs": [],
   "source": [
    "num_features = len(cv.vocabulary_)"
   ]
  },
  {
   "cell_type": "code",
   "execution_count": 16,
   "id": "4d9fe3b5-b582-4650-bb31-25e6c29c3b0d",
   "metadata": {},
   "outputs": [],
   "source": [
    "#cv.vocabulary_"
   ]
  },
  {
   "cell_type": "code",
   "execution_count": 17,
   "id": "9ae501dc-ecf8-4526-8b6b-7dc3be4d3a20",
   "metadata": {},
   "outputs": [],
   "source": [
    "import nltk"
   ]
  },
  {
   "cell_type": "code",
   "execution_count": 18,
   "id": "b87fb50e-843b-4d7e-9cc6-468f866b26ad",
   "metadata": {},
   "outputs": [],
   "source": [
    "from nltk.stem.porter import PorterStemmer"
   ]
  },
  {
   "cell_type": "code",
   "execution_count": 19,
   "id": "b19cab40-247f-4353-81d2-57b0b2a538e8",
   "metadata": {},
   "outputs": [],
   "source": [
    "stem = PorterStemmer()"
   ]
  },
  {
   "cell_type": "code",
   "execution_count": 20,
   "id": "45ca7c10-26b4-4a43-81eb-f4c33b41cad5",
   "metadata": {},
   "outputs": [],
   "source": [
    "def stemming(text):\n",
    "    y = []\n",
    "    \n",
    "    for i in text.split():\n",
    "        y.append(stem.stem(i))\n",
    "    return \" \".join(y)"
   ]
  },
  {
   "cell_type": "code",
   "execution_count": 21,
   "id": "7e294516-d538-4940-b242-6f2b2a2f3f5c",
   "metadata": {},
   "outputs": [
    {
     "name": "stderr",
     "output_type": "stream",
     "text": [
      "C:\\Users\\Emmanuel\\AppData\\Local\\Temp\\ipykernel_14932\\1172925948.py:1: SettingWithCopyWarning: \n",
      "A value is trying to be set on a copy of a slice from a DataFrame.\n",
      "Try using .loc[row_indexer,col_indexer] = value instead\n",
      "\n",
      "See the caveats in the documentation: https://pandas.pydata.org/pandas-docs/stable/user_guide/indexing.html#returning-a-view-versus-a-copy\n",
      "  new_df[\"track_name\"] = new_df[\"track_name\"].apply(stemming)\n"
     ]
    }
   ],
   "source": [
    "new_df[\"track_name\"] = new_df[\"track_name\"].apply(stemming)"
   ]
  },
  {
   "cell_type": "code",
   "execution_count": 22,
   "id": "180abf57-af1f-4233-bfd0-0073e86fb205",
   "metadata": {},
   "outputs": [
    {
     "name": "stderr",
     "output_type": "stream",
     "text": [
      "C:\\Users\\Emmanuel\\AppData\\Local\\Temp\\ipykernel_14932\\2608611224.py:1: SettingWithCopyWarning: \n",
      "A value is trying to be set on a copy of a slice from a DataFrame.\n",
      "Try using .loc[row_indexer,col_indexer] = value instead\n",
      "\n",
      "See the caveats in the documentation: https://pandas.pydata.org/pandas-docs/stable/user_guide/indexing.html#returning-a-view-versus-a-copy\n",
      "  new_df[\"genres\"] =new_df[\"genres\"].apply(lambda x:x.replace(\" \",\"\"))\n"
     ]
    }
   ],
   "source": [
    "new_df[\"genres\"] =new_df[\"genres\"].apply(lambda x:x.replace(\" \",\"\"))"
   ]
  },
  {
   "cell_type": "code",
   "execution_count": 23,
   "id": "58d5c8cb-d70a-442a-bac5-b99b03566c37",
   "metadata": {},
   "outputs": [
    {
     "data": {
      "text/html": [
       "<div>\n",
       "<style scoped>\n",
       "    .dataframe tbody tr th:only-of-type {\n",
       "        vertical-align: middle;\n",
       "    }\n",
       "\n",
       "    .dataframe tbody tr th {\n",
       "        vertical-align: top;\n",
       "    }\n",
       "\n",
       "    .dataframe thead th {\n",
       "        text-align: right;\n",
       "    }\n",
       "</style>\n",
       "<table border=\"1\" class=\"dataframe\">\n",
       "  <thead>\n",
       "    <tr style=\"text-align: right;\">\n",
       "      <th></th>\n",
       "      <th>genres</th>\n",
       "      <th>artist_name</th>\n",
       "      <th>track_name</th>\n",
       "    </tr>\n",
       "  </thead>\n",
       "  <tbody>\n",
       "    <tr>\n",
       "      <th>0</th>\n",
       "      <td>pop</td>\n",
       "      <td>Miley Cyrus</td>\n",
       "      <td>flower</td>\n",
       "    </tr>\n",
       "    <tr>\n",
       "      <th>1</th>\n",
       "      <td>pop,r&amp;b,rap</td>\n",
       "      <td>SZA</td>\n",
       "      <td>kill bill</td>\n",
       "    </tr>\n",
       "    <tr>\n",
       "      <th>2</th>\n",
       "      <td>pop</td>\n",
       "      <td>Harry Styles</td>\n",
       "      <td>as it wa</td>\n",
       "    </tr>\n",
       "    <tr>\n",
       "      <th>3</th>\n",
       "      <td>k-pop</td>\n",
       "      <td>Jung Kook</td>\n",
       "      <td>seven (feat. latto) (explicit ver.)</td>\n",
       "    </tr>\n",
       "    <tr>\n",
       "      <th>4</th>\n",
       "      <td>corrido,corridostumbados,sadsierreno,sierreno</td>\n",
       "      <td>Eslabon Armado</td>\n",
       "      <td>ella baila sola</td>\n",
       "    </tr>\n",
       "  </tbody>\n",
       "</table>\n",
       "</div>"
      ],
      "text/plain": [
       "                                          genres     artist_name  \\\n",
       "0                                            pop     Miley Cyrus   \n",
       "1                                    pop,r&b,rap             SZA   \n",
       "2                                            pop    Harry Styles   \n",
       "3                                          k-pop       Jung Kook   \n",
       "4  corrido,corridostumbados,sadsierreno,sierreno  Eslabon Armado   \n",
       "\n",
       "                            track_name  \n",
       "0                               flower  \n",
       "1                            kill bill  \n",
       "2                             as it wa  \n",
       "3  seven (feat. latto) (explicit ver.)  \n",
       "4                      ella baila sola  "
      ]
     },
     "execution_count": 23,
     "metadata": {},
     "output_type": "execute_result"
    }
   ],
   "source": [
    "new_df.head()"
   ]
  },
  {
   "cell_type": "code",
   "execution_count": 24,
   "id": "b954c256-53cb-4b8e-85f7-62a09833d71b",
   "metadata": {},
   "outputs": [],
   "source": [
    "from sklearn.metrics.pairwise import cosine_similarity"
   ]
  },
  {
   "cell_type": "code",
   "execution_count": 25,
   "id": "a52906f2-2363-4a71-8ce2-575504156069",
   "metadata": {},
   "outputs": [
    {
     "data": {
      "text/plain": [
       "(50, 50)"
      ]
     },
     "execution_count": 25,
     "metadata": {},
     "output_type": "execute_result"
    }
   ],
   "source": [
    "cosine_similarity(vectors).shape"
   ]
  },
  {
   "cell_type": "code",
   "execution_count": 26,
   "id": "d7bfd6f1-fb41-4ab6-a10b-c194a8d26f4d",
   "metadata": {},
   "outputs": [],
   "source": [
    "similarity = cosine_similarity(vectors)"
   ]
  },
  {
   "cell_type": "code",
   "execution_count": 27,
   "id": "3b71b2a3-720d-411d-b132-ed3cc424afac",
   "metadata": {},
   "outputs": [
    {
     "data": {
      "text/plain": [
       "[(1, 0.0), (2, 0.0), (3, 0.0), (4, 0.0), (5, 0.0)]"
      ]
     },
     "execution_count": 27,
     "metadata": {},
     "output_type": "execute_result"
    }
   ],
   "source": [
    "sorted(list(enumerate(similarity[0])),reverse=True,key = lambda x: x[1])[1:6]"
   ]
  },
  {
   "cell_type": "code",
   "execution_count": 48,
   "id": "b1b3ddc9-3804-4abc-8488-d0b26bfdaca4",
   "metadata": {},
   "outputs": [],
   "source": [
    "def recommendsong(genre):\n",
    "    movie_index = new_df[new_df[\"genres\"]==genre].index[0]\n",
    "    distances = similarity[movie_index]\n",
    "    movie_list = sorted(list(enumerate(distances)),reverse=True,key = lambda x: x[1])[:10]\n",
    "    for i in movie_list:\n",
    "        print(new_df.iloc[i[0]].track_name)"
   ]
  },
  {
   "cell_type": "code",
   "execution_count": 75,
   "id": "9c9f2323-94c9-44c5-94a5-4d8f52a21951",
   "metadata": {},
   "outputs": [],
   "source": [
    "#recommendsong(\"afrobeat\")"
   ]
  },
  {
   "cell_type": "code",
   "execution_count": 50,
   "id": "0e6cfd9c-0f3f-41f1-9e4a-e5ecef323ece",
   "metadata": {},
   "outputs": [
    {
     "data": {
      "text/html": [
       "<div>\n",
       "<style scoped>\n",
       "    .dataframe tbody tr th:only-of-type {\n",
       "        vertical-align: middle;\n",
       "    }\n",
       "\n",
       "    .dataframe tbody tr th {\n",
       "        vertical-align: top;\n",
       "    }\n",
       "\n",
       "    .dataframe thead th {\n",
       "        text-align: right;\n",
       "    }\n",
       "</style>\n",
       "<table border=\"1\" class=\"dataframe\">\n",
       "  <thead>\n",
       "    <tr style=\"text-align: right;\">\n",
       "      <th></th>\n",
       "      <th>genres</th>\n",
       "      <th>artist_name</th>\n",
       "      <th>track_name</th>\n",
       "    </tr>\n",
       "  </thead>\n",
       "  <tbody>\n",
       "    <tr>\n",
       "      <th>3</th>\n",
       "      <td>k-pop</td>\n",
       "      <td>Jung Kook</td>\n",
       "      <td>seven (feat. latto) (explicit ver.)</td>\n",
       "    </tr>\n",
       "    <tr>\n",
       "      <th>40</th>\n",
       "      <td>k-pop</td>\n",
       "      <td>Jimin</td>\n",
       "      <td>like crazi</td>\n",
       "    </tr>\n",
       "  </tbody>\n",
       "</table>\n",
       "</div>"
      ],
      "text/plain": [
       "   genres artist_name                           track_name\n",
       "3   k-pop   Jung Kook  seven (feat. latto) (explicit ver.)\n",
       "40  k-pop       Jimin                           like crazi"
      ]
     },
     "execution_count": 50,
     "metadata": {},
     "output_type": "execute_result"
    }
   ],
   "source": [
    "new_df.query(\"genres == 'k-pop'\")"
   ]
  },
  {
   "cell_type": "code",
   "execution_count": 51,
   "id": "4fec8ff1-055a-439b-89fd-780d760fa6bc",
   "metadata": {},
   "outputs": [
    {
     "name": "stdout",
     "output_type": "stream",
     "text": [
      "3\n",
      "seven (feat. latto) (explicit ver.)\n",
      "cupid - twin ver.\n",
      "unholi (feat. kim petras)\n",
      "see you again (feat. kali uchis)\n",
      "flower\n",
      "kill bill\n",
      "as it wa\n",
      "ella baila sola\n",
      "cruel summer\n",
      "creepin' (with the weeknd & 21 savage)\n"
     ]
    }
   ],
   "source": [
    "recommendsong(\"k-pop\")"
   ]
  },
  {
   "cell_type": "code",
   "execution_count": 52,
   "id": "82360284-2323-4519-b397-d50ff7bcda5a",
   "metadata": {},
   "outputs": [
    {
     "name": "stdout",
     "output_type": "stream",
     "text": [
      "6\n",
      "creepin' (with the weeknd & 21 savage)\n",
      "here with me\n",
      "paint the town red\n",
      "calm down (with selena gomez)\n",
      "die for you (with ariana grande) - remix\n",
      "until i found you (with em beihold) - em beihold version\n",
      "flower\n",
      "kill bill\n",
      "as it wa\n",
      "seven (feat. latto) (explicit ver.)\n"
     ]
    }
   ],
   "source": [
    "recommendsong(\"rap\")"
   ]
  }
 ],
 "metadata": {
  "kernelspec": {
   "display_name": "Python 3 (ipykernel)",
   "language": "python",
   "name": "python3"
  },
  "language_info": {
   "codemirror_mode": {
    "name": "ipython",
    "version": 3
   },
   "file_extension": ".py",
   "mimetype": "text/x-python",
   "name": "python",
   "nbconvert_exporter": "python",
   "pygments_lexer": "ipython3",
   "version": "3.10.7"
  }
 },
 "nbformat": 4,
 "nbformat_minor": 5
}
